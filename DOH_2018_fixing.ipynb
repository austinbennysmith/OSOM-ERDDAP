{
 "cells": [
  {
   "cell_type": "code",
   "execution_count": 2,
   "metadata": {
    "scrolled": false
   },
   "outputs": [
    {
     "name": "stdout",
     "output_type": "stream",
     "text": [
      "<class 'netCDF4._netCDF4.Dataset'>\n",
      "root group (NETCDF4 data model, file format HDF5):\n",
      "    dimensions(sizes): time(1461), SWresults(1461), StationID(1461), LabID(1461)\n",
      "    variables(dimensions): float64 \u001b[4mtime\u001b[0m(time), float64 \u001b[4mSWresults\u001b[0m(time), <class 'str'> \u001b[4mStationID\u001b[0m(StationID)\n",
      "    groups: \n",
      "\n"
     ]
    }
   ],
   "source": [
    "#NEXT CHallenge: figure out how to get the data formatted correctly so I can add StationID as a dimension for SWresults_var\n",
    "\n",
    "#helpful link about working with netcdf4: https://iescoders.com/writing-netcdf4-data-in-python/\n",
    "#helpful link for strptime formatting: https://www.journaldev.com/23365/python-string-to-datetime-strptime\n",
    "#helpful link with examples of netcdf4.date2num(): https://www.programcreek.com/python/example/89490/netCDF4.date2num\n",
    "#a few imports and installations:\n",
    "import netCDF4 as nc\n",
    "from netCDF4 import Dataset as NetCDFFile\n",
    "from netCDF4 import date2num\n",
    "import xarray as xr\n",
    "from datetime import datetime as dt\n",
    "import numpy as np\n",
    "!cd /Users/bennysmith/Documents/Climate_Science/Research_with_Baylor\n",
    "!rm test.nc\n",
    "\n",
    "#opening the .nc file with the data I'd like to use:\n",
    "mydirectory = '/Users/bennysmith/Documents/Climate_Science/Research_with_Baylor'\n",
    "ncstart = NetCDFFile(mydirectory+'/DOH_2018_SAFE.nc')\n",
    "CollectionTime_start = ncstart.variables['CollectionTime']\n",
    "SWresults_start = ncstart.variables['SWresults']\n",
    "StationID_start = ncstart.variables['StationID']\n",
    "\n",
    "timelist = []\n",
    "for i in CollectionTime_start:\n",
    "    timelist.append(dt.strptime(i, '%m/%d/%y %I:%M %p'))\n",
    "timelist2 = date2num(timelist, 'minutes since 2018-05-24 13:20:00')\n",
    "\n",
    "    \n",
    "#Making the netcdf file:\n",
    "mync = nc.Dataset('test.nc', 'w', format='NETCDF4')\n",
    "time_dim = mync.createDimension('time', None)\n",
    "SWresults_dim = mync.createDimension('SWresults', 1461)\n",
    "StationID_dim = mync.createDimension('StationID', 1461)\n",
    "\n",
    "SampleID_dim = mync.createDimension('SampleID', 1461)\n",
    "WaterType_dim = mync.createDimension('WaterType', 1461)\n",
    "Duplicate_dim = mync.createDimension('Duplicate', 1461)\n",
    "Validation_dim = mync.createDimension('Validation', 1461)\n",
    "Test_Type_dim = mync.createDimension('Test_Type', 1461)\n",
    "Sampler_dim = mync.createDimension('Sampler', 1461)\n",
    "BeachID_dim = mync.createDimension('BeachID', 1461)\n",
    "\n",
    "time_var = mync.createVariable('time', np.float64, ('time',))\n",
    "SWresults_var = mync.createVariable('SWresults', 'float64', ('time',))\n",
    "StationID_var = mync.createVariable('StationID', np.str, ('StationID'))\n",
    "\n",
    "time_var[:] = timelist2[:]\n",
    "SWresults_var[:] = SWresults_start[:] #The index and colon are very important; if you don't include these it will just reset the values of the values, which prevents the data from being saved to the new netcdf.\n",
    "StationID_var[:] = StationID_start[:]\n",
    "\n",
    "print(mync)\n",
    "# unique = []\n",
    "# for i in StationID_var:\n",
    "#     #print(i)\n",
    "#     if i not in unique:\n",
    "#         unique.append(i)\n",
    "# print(len(unique))\n",
    "# uniquetime = []\n",
    "# for i in time:\n",
    "#     if i not in uniquetime:\n",
    "#         uniquetime.append(i)\n",
    "# print(len(uniquetime))\n",
    "        \n",
    "mync.close() #this is a VERY important line!! If you don't close the file, not all the data gets written"
   ]
  },
  {
   "cell_type": "code",
   "execution_count": 16,
   "metadata": {
    "scrolled": true
   },
   "outputs": [
    {
     "name": "stdout",
     "output_type": "stream",
     "text": [
      "KeysView(Frozen({'time': <xarray.IndexVariable 'time' (time: 1461)>\n",
      "array([0.00000e+00, 5.00000e+00, 6.83000e+03, ..., 1.40945e+05, 1.40948e+05,\n",
      "       1.40951e+05]), 'SWresults': <xarray.Variable (time: 1461)>\n",
      "array([184., 248.,  41., ...,  20.,  10.,  84.]), 'StationID': <xarray.IndexVariable 'StationID' (StationID: 27)>\n",
      "array(['RI840021-01', 'RI840021-01', 'RI840021-01', 'RI840021-01',\n",
      "       'RI840021-01', 'RI840021-01', 'RI840021-01', 'RI840021-01',\n",
      "       'RI840021-01', 'RI840021-01', 'RI840021-01', 'RI840021-01',\n",
      "       'RI840021-01', 'RI840021-01', 'RI840021-01', 'RI840021-01',\n",
      "       'RI840021-01', 'RI840021-01', 'RI840021-01', 'RI840021-01',\n",
      "       'RI840021-01', 'RI840021-01', 'RI840021-01', 'RI840021-01',\n",
      "       'RI840021-01', 'RI840021-01', 'RI840021-01'], dtype=object)}))\n",
      "<xarray.Dataset>\n",
      "Dimensions:    (StationID: 27, time: 1461)\n",
      "Coordinates:\n",
      "  * time       (time) float64 0.0 5.0 6.83e+03 ... 1.409e+05 1.409e+05 1.41e+05\n",
      "  * StationID  (StationID) object 'RI840021-01' 'RI840021-01' ... 'RI840021-01'\n",
      "Data variables:\n",
      "    SWresults  (time) float64 184.0 248.0 41.0 10.0 10.0 ... 10.0 20.0 10.0 84.0\n"
     ]
    },
    {
     "data": {
      "text/plain": [
       "[<matplotlib.lines.Line2D at 0x11a60be80>]"
      ]
     },
     "execution_count": 16,
     "metadata": {},
     "output_type": "execute_result"
    },
    {
     "data": {
      "image/png": "[encoded data removed]",
      "text/plain": [
       "<Figure size 432x288 with 1 Axes>"
      ]
     },
     "metadata": {
      "needs_background": "light"
     },
     "output_type": "display_data"
    }
   ],
   "source": [
    "mydirectory = '/Users/bennysmith/Documents/Climate_Science/Research_with_Baylor'\n",
    "import matplotlib.pyplot as plt\n",
    "import xarray as xr\n",
    "ncnew = xr.open_dataset(mydirectory+'/test.nc')\n",
    "SWresults = ncnew.variables['SWresults'][:]\n",
    "StationID = ncnew.variables['StationID']\n",
    "time = ncnew.variables['time'][:]\n",
    "plt.plot(time, SWresults)"
   ]
  },
  {
   "cell_type": "code",
   "execution_count": null,
   "metadata": {},
   "outputs": [],
   "source": []
  },
  {
   "cell_type": "code",
   "execution_count": null,
   "metadata": {},
   "outputs": [],
   "source": []
  }
 ],
 "metadata": {
  "kernelspec": {
   "display_name": "Python 3",
   "language": "python",
   "name": "python3"
  },
  "language_info": {
   "codemirror_mode": {
    "name": "ipython",
    "version": 3
   },
   "file_extension": ".py",
   "mimetype": "text/x-python",
   "name": "python",
   "nbconvert_exporter": "python",
   "pygments_lexer": "ipython3",
   "version": "3.7.3"
  }
 },
 "nbformat": 4,
 "nbformat_minor": 4
}
