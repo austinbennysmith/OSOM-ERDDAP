{
 "cells": [
  {
   "cell_type": "markdown",
   "metadata": {},
   "source": [
    "# **Correlating conditions in the Ocean State Ocean Model to bacterial loads and beach closures**\n",
    "## Ella Wood\n",
    "\n",
    "### High levels of fecal bacteria in Rhode Island swimming beaches can have serious public health repercussions as well as economic consequences.  As a result, the ability to predict these fecal bacteria levels on a single beach scale would be a powerful tool with many real world applications. In my SURF research project, I attempted to correlate Rhode Island beach closures caused by high fecal bacteria levels to conditions, including temperature, salinity, and chlorophyll, in the Ocean State Ocean Model (OSOM).  I found no clear correlation between variables predicted in the model (surface temperature, surface salinity, and surface chlorophyll 1) and beach closures due to high bacterial loads. Future research using fecal bacteria loads could more clearly identify a correlation.\n",
    "\n",
    "<img width=\"650\" alt=\"Screen Shot 2020-09-21 at 3 23 08 PM\" src=\"https://user-images.githubusercontent.com/69660053/93811595-6875f200-fc1e-11ea-8a22-fb10deb06c92.png\">\n",
    "\n",
    "## *Figure 1: Total number of closures for every official beach in Rhode Island from 2000-2019. Beaches that experienced no closures are not indicated in the figure.*"
   ]
  },
  {
   "cell_type": "code",
   "execution_count": 2,
   "metadata": {
    "jupyter": {
     "source_hidden": true
    }
   },
   "outputs": [
    {
     "data": {
      "text/html": [
       "<img src=\"./image2.gif\"/>"
      ],
      "text/plain": [
       "<IPython.core.display.Image object>"
      ]
     },
     "execution_count": 2,
     "metadata": {},
     "output_type": "execute_result"
    }
   ],
   "source": [
    "from IPython.display import Image\n",
    "Image(url='./image2.gif')"
   ]
  },
  {
   "cell_type": "markdown",
   "metadata": {},
   "source": [
    "## *Figure 2: OSOM sea surface temperature data for July 2006 with beach closures due to fecal bacterial outbreaks indicated by magenta pentagrams.*"
   ]
  },
  {
   "cell_type": "code",
   "execution_count": 4,
   "metadata": {
    "jupyter": {
     "source_hidden": true
    }
   },
   "outputs": [
    {
     "data": {
      "text/html": [
       "<img src=\"./image3.gif\"/>"
      ],
      "text/plain": [
       "<IPython.core.display.Image object>"
      ]
     },
     "execution_count": 4,
     "metadata": {},
     "output_type": "execute_result"
    }
   ],
   "source": [
    "from IPython.display import Image\n",
    "Image(url='./image3.gif')"
   ]
  },
  {
   "cell_type": "markdown",
   "metadata": {},
   "source": [
    "## *Figure 3: OSOM surface salinity data for July 2006 with beach closures due to feal bacterial outbreaks indicated by magenta pentagrams.*"
   ]
  },
  {
   "cell_type": "code",
   "execution_count": 1,
   "metadata": {
    "jupyter": {
     "source_hidden": true
    }
   },
   "outputs": [
    {
     "data": {
      "text/html": [
       "<img src=\"./image4.gif\"/>"
      ],
      "text/plain": [
       "<IPython.core.display.Image object>"
      ]
     },
     "execution_count": 1,
     "metadata": {},
     "output_type": "execute_result"
    }
   ],
   "source": [
    "from IPython.display import Image\n",
    "Image(url='./image4.gif')"
   ]
  },
  {
   "cell_type": "markdown",
   "metadata": {},
   "source": [
    "## *Figure 4: OSOM surface salinity data for July 2006 with beach closures due to fecal bacterial outbreaks indicated by magenta pentagrams.*"
   ]
  },
  {
   "cell_type": "markdown",
   "metadata": {},
   "source": [
    "# **Conclusions:**\n",
    "### •Obtained beach closure and fecal bacteria indicator load data from Sherry Poucher at the Rhode Island Department of Health (RIDOH)<br/>\n",
    "### •Obtained Dave Ullman’s Ocean State Ocean Model 2006 mod 8 run 6a from the Center for Computation and Visualization, Brown University.<br/>\n",
    "### •Used MATLAB to map total beach closures due to bacterial outbreaks from 2000-2019<br/>\n",
    "### •Used MATLAB to animate surface temperature, surface salinity, and surface chlorophyll 1 OSOM data and beach closure data from July 1st to July 31st<br/>"
   ]
  },
  {
   "cell_type": "markdown",
   "metadata": {},
   "source": [
    "## **Materials and Methods:**\n",
    "### •Obtained beach closure and fecal bacteria indicator load data from Sherry Poucher at the Rhode Island Department of Health (RIDOH)<br/>\n",
    "### •Obtained Dave Ullman’s Ocean State Ocean Model 2006 mod 8 run 6a from the Center for Computation and Visualization, Brown University. <br/>\n",
    "### •Used MATLAB to map total beach closures due to bacterial outbreaks from 2000-2019<br/>\n",
    "### •Used MATLAB to animate surface temperature, surface salinity, and surface chlorophyll 1 OSOM data and beach closure data from July 1st to July 31st<br/>"
   ]
  },
  {
   "cell_type": "code",
   "execution_count": null,
   "metadata": {},
   "outputs": [],
   "source": []
  }
 ],
 "metadata": {
  "kernelspec": {
   "display_name": "Python 3",
   "language": "python",
   "name": "python3"
  },
  "language_info": {
   "codemirror_mode": {
    "name": "ipython",
    "version": 3
   },
   "file_extension": ".py",
   "mimetype": "text/x-python",
   "name": "python",
   "nbconvert_exporter": "python",
   "pygments_lexer": "ipython3",
   "version": "3.7.3"
  }
 },
 "nbformat": 4,
 "nbformat_minor": 4
}
