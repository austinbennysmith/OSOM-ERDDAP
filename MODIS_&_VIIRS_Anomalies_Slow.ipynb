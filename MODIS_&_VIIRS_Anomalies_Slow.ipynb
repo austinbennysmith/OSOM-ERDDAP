{
  "nbformat": 4,
  "nbformat_minor": 0,
  "metadata": {
    "colab": {
      "name": "MODIS & VIIRS Anomalies Slow",
      "provenance": [],
      "authorship_tag": "ABX9TyNQiuhuMr6u0QsS1ykSOO//",
      "include_colab_link": true
    },
    "kernelspec": {
      "name": "python3",
      "display_name": "Python 3"
    }
  },
  "cells": [
    {
      "cell_type": "markdown",
      "metadata": {
        "id": "view-in-github",
        "colab_type": "text"
      },
      "source": [
        "<a href=\"https://colab.research.google.com/github/austinbennysmith/OSOM-ERDDAP/blob/master/MODIS_%26_VIIRS_Anomalies_Slow.ipynb\" target=\"_parent\"><img src=\"https://colab.research.google.com/assets/colab-badge.svg\" alt=\"Open In Colab\"/></a>"
      ]
    },
    {
      "cell_type": "markdown",
      "metadata": {
        "id": "G3HcY-10Ee02",
        "colab_type": "text"
      },
      "source": [
        "This notebook graphs **anomalies from the monthly climatology** against time for chlorophyll a, k490, or PAR in the MODIS or VIIRS data. It will first graph the climatologies of the chosen variable separately, and then graphs the anomalies using the climatologies. This notebook only works with monthly composites."
      ]
    },
    {
      "cell_type": "code",
      "metadata": {
        "id": "5PTSlIz9BleQ",
        "colab_type": "code",
        "colab": {}
      },
      "source": [
        "#First, some installations and imports:\n",
        "!pip install netCDF4\n",
        "import requests\n",
        "from netCDF4 import Dataset as NetCDFFile\n",
        "import matplotlib.pyplot as plt\n",
        "import numpy as np\n",
        "%matplotlib inline\n",
        "import matplotlib.pyplot as plt\n",
        "import calendar\n",
        "import datetime"
      ],
      "execution_count": null,
      "outputs": []
    },
    {
      "cell_type": "markdown",
      "metadata": {
        "id": "5LSujbPjmm1W",
        "colab_type": "text"
      },
      "source": [
        "The following code cell defines a function that makes a list of dates and uses conditionals to define some variables that will be used in making the url and labeling the plots. This is the cell where you can change the dates you want to graph."
      ]
    },
    {
      "cell_type": "code",
      "metadata": {
        "id": "VNiPXfgNCDb8",
        "colab_type": "code",
        "colab": {}
      },
      "source": [
        "#For a more thoroughly commented version of this cell, see the \"MODIS & VIIRS Spatial Averages Slow\" notebook\n",
        "#the code dealing with datetime here is based on code at this link: https://stackoverflow.com/questions/1060279/iterating-through-a-range-of-dates-in-python\n",
        "#This link also helped with datetime stuff: https://stackoverflow.com/questions/5734438/how-to-create-a-month-iteratorimport datetime\n",
        "import datetime\n",
        "from datetime import date, timedelta\n",
        "from datetime import datetime as dt\n",
        "def conditionals():\n",
        "  #since this is a function, and I want a bunch of the variables to be referenced outside of the function, I use global below for a bunch of the variables. Otherwise if I try to reference those variables outside of this function, it won't work.\n",
        "  global dates2\n",
        "  global myvar\n",
        "  global title\n",
        "  global dataset_id\n",
        "  global tt\n",
        "  global tres\n",
        "  global unit\n",
        "  global means\n",
        "  global timearray\n",
        "  global satellite\n",
        "  global thecolor\n",
        "  global shortsat\n",
        "  dates2 = []\n",
        "  #Modis dataset IDs: 'erdMH1chla1day', 'erdMH1chla8day', 'erdMH1chlamday', 'erdMH1kd4901day', 'erdMH1kd4908day', 'erdMH1kd490mday', 'erdMH1par01day', 'erdMH1par08day', 'erdMH1par0mday'\n",
        "  #VIIRS dataset IDs: 'erdVH2018chla8day', 'erdVH2018chla1day', 'erdVH2018chlamday', 'erdVH2018k4908day', 'erdVH2018k4901day', 'erdVH2018k490mday', 'erdVH2018par8day', 'erdVH2018par1day', 'erdVH2018parmday'\n",
        "  dataset_id = input(\"What's the dataset ID?\")\n",
        "  if 'MH' in dataset_id:\n",
        "    satellite = 'MODIS'\n",
        "    shortsat = 'MODIS'\n",
        "    thecolor = 'cyan'\n",
        "  elif 'VH' in dataset_id:\n",
        "    satellite = 'Suomi-NPP/VIIRS'\n",
        "    shortsat = 'VIIRS'\n",
        "    thecolor = 'magenta'\n",
        "  tres = dataset_id[-4:]\n",
        "  if tres=='8day' and 'MH' in dataset_id:\n",
        "    tt = '8 Day '\n",
        "    start_date = date(2003, 1, 5)\n",
        "    end_date = date(2020, 5, 20)\n",
        "    delta = timedelta(days = 8)\n",
        "    while start_date<=end_date:\n",
        "      dates2.append(str(start_date))\n",
        "      start_date += delta\n",
        "  elif tres=='8day' and 'VH' in dataset_id:\n",
        "    tt = '8 Day '\n",
        "    start_date = date(2012, 1, 5)\n",
        "    end_date = date(2020, 5, 12)\n",
        "    delta = timedelta(days = 8)\n",
        "    while start_date<=end_date:\n",
        "      dates2.append(str(start_date))\n",
        "      start_date += delta\n",
        "  elif tres=='1day' and 'MH' in dataset_id:\n",
        "    tt = '1 Day '\n",
        "    start_date = date(2003, 1, 1)\n",
        "    end_date = date(2020, 6, 16)\n",
        "    delta = timedelta(days = 1)\n",
        "    while start_date<=end_date:\n",
        "      dates2.append(str(start_date))\n",
        "      start_date += delta\n",
        "  elif tres=='1day' and 'VH' in dataset_id:\n",
        "    tt = '1 Day '\n",
        "    start_date = date(2012, 1, 2)\n",
        "    end_date = date(2020, 6, 8)\n",
        "    delta = timedelta(days = 1)\n",
        "    while start_date<=end_date:\n",
        "      dates2.append(str(start_date))\n",
        "      start_date += delta\n",
        "  elif tres=='mday' and 'MH' in dataset_id:\n",
        "    tt = 'Monthly '\n",
        "    start_date = date(2003, 1, 16)\n",
        "    end_date = date(2020, 4, 16)\n",
        "    def months_iter(start_month, start_year, end_month, end_year):\n",
        "      start_date = datetime.date(start_year, start_month, 1)\n",
        "      end_date = datetime.date(end_year, end_month, 1)\n",
        "      date = start_date\n",
        "      while date <= end_date:\n",
        "          yield (date.month, date.year)\n",
        "          new_new = str(datetime.date(date.year, date.month, 16))\n",
        "          dates2.append(new_new)\n",
        "          days_in_month = calendar.monthrange(date.year, date.month)[1]\n",
        "          date += datetime.timedelta(days_in_month)\n",
        "    def months(start_month, start_year, end_month, end_year):\n",
        "      return tuple(d for d in months_iter(start_month, start_year, end_month, end_year))\n",
        "    months(1, 2003, 4, 2020)\n",
        "  elif tres=='mday' and 'VH' in dataset_id:\n",
        "    tt = 'Monthly '\n",
        "    start_date = date(2012, 1, 15)\n",
        "    end_date = date(2020, 4, 15)\n",
        "    def months_iter(start_month, start_year, end_month, end_year):\n",
        "      start_date = datetime.date(start_year, start_month, 1)\n",
        "      end_date = datetime.date(end_year, end_month, 1)\n",
        "      date = start_date\n",
        "      while date <= end_date:\n",
        "          yield (date.month, date.year)\n",
        "          new_new = str(datetime.date(date.year, date.month, 15))\n",
        "          dates2.append(new_new)\n",
        "          days_in_month = calendar.monthrange(date.year, date.month)[1]\n",
        "          date += datetime.timedelta(days_in_month)\n",
        "    def months(start_month, start_year, end_month, end_year):\n",
        "      return tuple(d for d in months_iter(start_month, start_year, end_month, end_year))\n",
        "    months(1, 2012, 4, 2020)\n",
        "  if 'chla' in dataset_id and 'MH' in dataset_id:\n",
        "    myvar = 'chlorophyll'\n",
        "    unit = 'mg m^-3'\n",
        "    title = 'Chlorophyll a '\n",
        "  elif 'chla' in dataset_id and 'VH' in dataset_id:\n",
        "    myvar = 'chla'\n",
        "    unit = 'mg m^-3'\n",
        "    title = 'Chlorophyll a'\n",
        "  elif 'kd490' in dataset_id or 'k490' in dataset_id:\n",
        "    myvar = 'k490'\n",
        "    unit = 'm^-1'\n",
        "    title = 'K490 '\n",
        "  elif 'par' in dataset_id:\n",
        "    myvar = 'par'\n",
        "    unit = 'einstein m^-2 day ^-1'\n",
        "    title = 'Photosynthetically Available Radiation '"
      ],
      "execution_count": 3,
      "outputs": []
    },
    {
      "cell_type": "markdown",
      "metadata": {
        "id": "sPW4Cj87HAiq",
        "colab_type": "text"
      },
      "source": [
        "Next, I define a function that loops through the list of dates and creates a list of means for each month, which will allow me to plot the climatologies. For a more thoroughly commented version of this code, see \"MODIS & VIIRS Climatologies Slow\""
      ]
    },
    {
      "cell_type": "code",
      "metadata": {
        "id": "DZ4W2Fg_q9ek",
        "colab_type": "code",
        "colab": {}
      },
      "source": [
        "def climatology():\n",
        "  global finalmeans\n",
        "  global metadates\n",
        "  global metameans\n",
        "  global months\n",
        "  metadates = []\n",
        "  metameans = []\n",
        "  months = []\n",
        "  for y in range(1,13):\n",
        "    months.append(y)\n",
        "  for k in range(1, 13):\n",
        "    monthdates = []\n",
        "    for i in dates2:\n",
        "      datee = dt.strptime(i, \"%Y-%m-%d\")\n",
        "      if datee.month == k:\n",
        "        monthdates.append(i)\n",
        "    metadates.append(monthdates)\n",
        "  for j in metadates:\n",
        "    means = []\n",
        "    for x in metadates[metadates.index(j)]:\n",
        "      url = 'https://pricaimcit.services.brown.edu/erddap/griddap/'+dataset_id+'.nc?'+myvar+'[('+x+'T00:00:00Z):1:('+x+'T00:00:00Z)][(41.5):1:(40.5)][(-72.65):1:(-70.25)]'\n",
        "      r = requests.get(url, allow_redirects=True)\n",
        "      open('test.nc', 'wb').write(r.content)\n",
        "      nc = NetCDFFile('test.nc')\n",
        "      nc\n",
        "      mapvar = nc.variables[myvar][:]\n",
        "      means.append(np.nanmean(mapvar))\n",
        "    metameans.append(means)\n",
        "  finalmeans = []\n",
        "  for z in metameans:\n",
        "    finalmeans.append(np.nanmean(metameans[metameans.index(z)]))\n",
        "  plt.plot(months, finalmeans, color = 'magenta')\n",
        "  plt.title('Monthly Climatology of '+title)\n",
        "  plt.xlabel('Calendar Month')\n",
        "  plt.ylabel(myvar+'('+unit+')')\n",
        "  plt.show()"
      ],
      "execution_count": 4,
      "outputs": []
    },
    {
      "cell_type": "markdown",
      "metadata": {
        "id": "PntiI632IxcC",
        "colab_type": "text"
      },
      "source": [
        "Next, I define a function that uses the monthly climatology to find the anomalies by month and put them in a list that can be used for graphing later."
      ]
    },
    {
      "cell_type": "code",
      "metadata": {
        "id": "96wnd1Phmp8c",
        "colab_type": "code",
        "colab": {}
      },
      "source": [
        "#images_dir = '/content/gdrive/Shared drives/BFK_BOG/SURF_UG/Benny/Images/Phytoplankton_averages/Anomalies/MODIS Anomalies'\n",
        "def anomaly():\n",
        "  #since this is a function, and I want a bunch of the variables to be referenced outside of the function, I use global below for a bunch of the variables. Otherwise if I try to reference those variables outside of this function, it won't work.\n",
        "  global anomalies\n",
        "  global means\n",
        "  global timearray\n",
        "  #defining some empty lists that I'll use for graphing:\n",
        "  anomalies = []\n",
        "  means = []\n",
        "  timearray = []\n",
        "  for i in dates2: #looping through all the dates\n",
        "    #Creating the url using previously defined variables and opening the dataset:\n",
        "    url = 'https://pricaimcit.services.brown.edu/erddap/griddap/'+dataset_id+'.nc?'+myvar+'[('+i+'T00:00:00Z):1:('+i+'T00:00:00Z)][(41.5):1:(40.5)][(-72.65):1:(-70.25)]'\n",
        "    r = requests.get(url, allow_redirects=True)\n",
        "    open('test.nc', 'wb').write(r.content)\n",
        "    nc = NetCDFFile('test.nc')\n",
        "    nc\n",
        "    lat = nc.variables['latitude'][:]\n",
        "    lon = nc.variables['longitude'][:]\n",
        "    time = nc.variables['time'][:]\n",
        "    mapvar = nc.variables[myvar][:]\n",
        "    index = datetime.datetime.strptime(i, '%Y-%m-%d').month #figuring out which month date i is in\n",
        "    addition = np.mean(mapvar) - finalmeans[index-1] #subtracting finalmenas[index-1] from the spatial average of the chosen variable for date i yields the anomaly from climatology\n",
        "    anomalies.append(addition) #appending the calculated anomaly to the anomalies list allows graphing later.\n",
        "    timearray.append(dt.fromtimestamp(time))"
      ],
      "execution_count": 5,
      "outputs": []
    },
    {
      "cell_type": "markdown",
      "metadata": {
        "id": "QhreOz3jKqgV",
        "colab_type": "text"
      },
      "source": [
        "Finally, I execute conditionals(), climatology(), and anomaly() each twice, and use the results to graph the climatology of the chosen variable for each satellite individually, as well as the anomalies from the climatology for both satellites together.\n",
        "\n",
        "Note: the graph of anomalies shown here for chlorophyll a is identical to the one shown in \"MODIS & VIIRS Faster Comparisons.\"\n",
        "\n",
        "Also, be sure to input a MODIS dataset ID first, and a VIIRS ID second, so that the colors in the graph are correct."
      ]
    },
    {
      "cell_type": "code",
      "metadata": {
        "id": "m-yQYEPIoPNk",
        "colab_type": "code",
        "colab": {
          "base_uri": "https://localhost:8080/",
          "height": 953
        },
        "outputId": "53d8ee93-57e7-4f78-aa68-2a992727d000"
      },
      "source": [
        "#from google.colab import drive\n",
        "#drive.mount('/content/gdrive')\n",
        "#images_dir = '/content/gdrive/Shared drives/BFK_BOG/SURF_UG/Benny/Images/Phytoplankton_averages/Anomalies/Anomaly_Comparisons'\n",
        "conditionals()\n",
        "climatology()\n",
        "anomaly()\n",
        "#below, I set the variables anomalies2, timearray2, and satellite2, because once I run the two functions again the variables anomalies, timearray, and satellite will be given new values. So I need to store them in separate variables to use them later in plotting.\n",
        "anomalies2 = anomalies\n",
        "timearray2 = timearray\n",
        "satellite2 = satellite\n",
        "conditionals()\n",
        "climatology()\n",
        "anomaly()\n",
        "anomalies3 = anomalies\n",
        "timearray3 = timearray\n",
        "satellite3 = satellite\n",
        "fig, ax = plt.subplots()\n",
        "ax.plot(timearray2, anomalies2, label = satellite2, color = 'cyan')\n",
        "ax.plot(timearray3, anomalies3, label = satellite3, color = 'magenta')\n",
        "plt.legend(loc=\"upper left\")\n",
        "plt.xlabel('Years')\n",
        "plt.ylabel(myvar+'('+unit+')')\n",
        "plt.title('Avg. '+title+' ('+tt+')')\n",
        "#plt.savefig(f\"{images_dir}/\"+tt+myvar+\".png\")\n",
        "plt.show()"
      ],
      "execution_count": 6,
      "outputs": [
        {
          "output_type": "stream",
          "text": [
            "What's the dataset ID?erdMH1chlamday\n"
          ],
          "name": "stdout"
        },
        {
          "output_type": "stream",
          "text": [
            "/usr/local/lib/python3.6/dist-packages/ipykernel_launcher.py:26: RuntimeWarning: invalid value encountered in less\n",
            "/usr/local/lib/python3.6/dist-packages/ipykernel_launcher.py:26: RuntimeWarning: invalid value encountered in greater\n"
          ],
          "name": "stderr"
        },
        {
          "output_type": "display_data",
          "data": {
            "image/png": "[encoded data removed]",
            "text/plain": [
              "<Figure size 432x288 with 1 Axes>"
            ]
          },
          "metadata": {
            "tags": [],
            "needs_background": "light"
          }
        },
        {
          "output_type": "stream",
          "text": [
            "/usr/local/lib/python3.6/dist-packages/ipykernel_launcher.py:21: RuntimeWarning: invalid value encountered in less\n",
            "/usr/local/lib/python3.6/dist-packages/ipykernel_launcher.py:21: RuntimeWarning: invalid value encountered in greater\n"
          ],
          "name": "stderr"
        },
        {
          "output_type": "stream",
          "text": [
            "What's the dataset ID?erdVH2018chlamday\n"
          ],
          "name": "stdout"
        },
        {
          "output_type": "display_data",
          "data": {
            "image/png": "[encoded data removed]",
            "text/plain": [
              "<Figure size 432x288 with 1 Axes>"
            ]
          },
          "metadata": {
            "tags": [],
            "needs_background": "light"
          }
        },
        {
          "output_type": "display_data",
          "data": {
            "image/png": "[encoded data removed]",
            "text/plain": [
              "<Figure size 432x288 with 1 Axes>"
            ]
          },
          "metadata": {
            "tags": [],
            "needs_background": "light"
          }
        }
      ]
    }
  ]
}