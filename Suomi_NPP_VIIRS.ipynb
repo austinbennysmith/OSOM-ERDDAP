{
  "nbformat": 4,
  "nbformat_minor": 0,
  "metadata": {
    "colab": {
      "name": "Suomi-NPP/VIIRS",
      "provenance": [],
      "collapsed_sections": [],
      "authorship_tag": "ABX9TyOH54IosAtTNB6Z0stcp5ct",
      "include_colab_link": true
    },
    "kernelspec": {
      "name": "python3",
      "display_name": "Python 3"
    }
  },
  "cells": [
    {
      "cell_type": "markdown",
      "metadata": {
        "id": "view-in-github",
        "colab_type": "text"
      },
      "source": [
        "<a href=\"https://colab.research.google.com/github/austinbennysmith/OSOM-ERDDAP/blob/master/Suomi_NPP_VIIRS.ipynb\" target=\"_parent\"><img src=\"https://colab.research.google.com/assets/colab-badge.svg\" alt=\"Open In Colab\"/></a>"
      ]
    },
    {
      "cell_type": "markdown",
      "metadata": {
        "id": "2KEcFEPUEbr7",
        "colab_type": "text"
      },
      "source": [
        ""
      ]
    },
    {
      "cell_type": "code",
      "metadata": {
        "id": "kNgxQQJHDJCJ",
        "colab_type": "code",
        "colab": {}
      },
      "source": [
        "!pip install netCDF4\n",
        "import requests\n",
        "from netCDF4 import Dataset as NetCDFFile\n",
        "import matplotlib.pyplot as plt\n",
        "#add vmin & vmax to these cell codes\n",
        "import numpy as np\n",
        "import pandas as pd\n",
        "%matplotlib inline\n",
        "import matplotlib.pyplot as plt\n",
        "pd.options.display.max_columns = 25\n",
        "#Colab requires specific installation of cartopy\n",
        "!apt-get -qq install python-cartopy python3-cartopy;\n",
        "!pip uninstall -y shapely;    # cartopy and shapely aren't friends (early 2020)\n",
        "!pip install shapely --no-binary shapely;\n",
        "import cartopy.crs as ccrs\n",
        "import cartopy.feature as cfeature\n",
        "from cartopy.mpl.ticker import LongitudeFormatter, LatitudeFormatter\n",
        "from matplotlib.axes import Axes\n",
        "from cartopy.mpl.geoaxes import GeoAxes\n",
        "GeoAxes._pcolormesh_patched = Axes.pcolormesh\n",
        "import calendar\n",
        "import datetime"
      ],
      "execution_count": null,
      "outputs": []
    },
    {
      "cell_type": "markdown",
      "metadata": {
        "id": "n5ZIkQFomA0J",
        "colab_type": "text"
      },
      "source": [
        "**Conditionals**"
      ]
    },
    {
      "cell_type": "code",
      "metadata": {
        "id": "fsr1e4nNDcWv",
        "colab_type": "code",
        "colab": {
          "base_uri": "https://localhost:8080/",
          "height": 51
        },
        "outputId": "b64c5917-c5fc-4731-9dd4-440f15a71d52"
      },
      "source": [
        "#the code dealing with datetime here is based on code at this link: https://stackoverflow.com/questions/1060279/iterating-through-a-range-of-dates-in-python\n",
        "#from google.colab import drive\n",
        "#drive.mount('/content/gdrive')\n",
        "import datetime\n",
        "from datetime import date, timedelta\n",
        "from datetime import datetime as dt\n",
        "dates2 = []\n",
        "#dataset_id = ['erdVH2018chla8day', 'erdVH2018chla1day', 'erdVH2018chlamday', 'erdVH2018k4908day', 'erdVH2018k4901day', 'erdVH2018k490mday', 'erdVH2018par8day', 'erdVH2018par1day', 'erdVH2018parmday', 'erdVH2018pic8day', 'erdVH2018pic1day', 'erdVH2018picmday', 'erdVH2018poc8day', 'erdVH2018poc1day', 'erdVH2018pocmday', 'erdVH2018r6718day', 'erdVH2018r6711day', 'erdVH2018r671mday']\n",
        "dataset_id = input(\"What's the dataset ID?\")\n",
        "#images_dir = '/content/gdrive/Shared drives/BFK_BOG/SURF_UG/Benny/Images/Phytoplankton_averages'\n",
        "#In the future, let's get the start and end dates from the metadata\n",
        "tres = dataset_id[-4:]\n",
        "if tres=='8day':\n",
        "  tt = '8 Day '\n",
        "  start_date = date(2012, 1, 5)\n",
        "  end_date = date(2020, 5, 12)\n",
        "  delta = timedelta(days = 8)\n",
        "  while start_date<=end_date:\n",
        "    dates2.append(str(start_date))\n",
        "    start_date += delta\n",
        "elif tres=='1day':\n",
        "  tt = '1 Day '\n",
        "  start_date = date(2012, 1, 2)\n",
        "  end_date = date(2020, 6, 8)\n",
        "  delta = timedelta(days = 1)\n",
        "  while start_date<=end_date:\n",
        "    dates2.append(str(start_date))\n",
        "    start_date += delta\n",
        "elif tres=='mday':\n",
        "  tt = 'Monthly '\n",
        "  start_date = date(2012, 1, 15)\n",
        "  end_date = date(2020, 4, 15)\n",
        "  def months_iter(start_month, start_year, end_month, end_year):\n",
        "    start_date = datetime.date(start_year, start_month, 1)\n",
        "    end_date = datetime.date(end_year, end_month, 1)\n",
        "    date = start_date\n",
        "    while date <= end_date:\n",
        "        yield (date.month, date.year)\n",
        "        new_new = str(datetime.date(date.year, date.month, 15))\n",
        "        dates2.append(new_new)\n",
        "        days_in_month = calendar.monthrange(date.year, date.month)[1]\n",
        "        date += datetime.timedelta(days_in_month)\n",
        "  def months(start_month, start_year, end_month, end_year):\n",
        "    return tuple(d for d in months_iter(start_month, start_year, end_month, end_year))\n",
        "  months(1, 2012, 4, 2020)\n",
        "if 'chla' in dataset_id:\n",
        "  myvar = 'chla'\n",
        "  unit = 'mg m^-3'\n",
        "  title = 'Chlorophyll a '\n",
        "elif 'k490' in dataset_id:\n",
        "  myvar = 'k490'\n",
        "  unit = 'm^-1'\n",
        "  title = 'K490 '\n",
        "elif 'par' in dataset_id:\n",
        "  myvar = 'par'\n",
        "  unit = 'einstein m^-2 day ^-1'\n",
        "  title = 'Photosynthetically Available Radiation '\n",
        "elif 'pic' in dataset_id:\n",
        "  myvar = 'pic'\n",
        "  unit = 'mol m^-3'\n",
        "  title = 'Particulate Inorganic Carbon '\n",
        "elif 'poc' in dataset_id:\n",
        "  myvar = 'poc'\n",
        "  unit = 'mg m^-3'\n",
        "  title = 'Particulate Organic Carbon '\n",
        "elif 'r671' in dataset_id:\n",
        "  myvar = 'r671'\n",
        "  unit = 'sr^-1'\n",
        "  title = 'Reflectance at 671 nm '"
      ],
      "execution_count": null,
      "outputs": [
        {
          "output_type": "stream",
          "text": [
            "Drive already mounted at /content/gdrive; to attempt to forcibly remount, call drive.mount(\"/content/gdrive\", force_remount=True).\n",
            "What's the dataset ID?erdVH2018r671mday\n"
          ],
          "name": "stdout"
        }
      ]
    },
    {
      "cell_type": "code",
      "metadata": {
        "id": "iwuGZ1n7l9C6",
        "colab_type": "code",
        "colab": {}
      },
      "source": [
        "means = []\n",
        "timearray = []\n",
        "def make_url():\n",
        "  for i in dates2:\n",
        "    url = 'https://pricaimcit.services.brown.edu/erddap/griddap/'+dataset_id+'.nc?'+myvar+'[('+i+'T00:00:00Z):1:('+i+'T00:00:00Z)][(42.25):1:(40.50)][(-72.75):1:(-69.75)]'\n",
        "    r = requests.get(url, allow_redirects=True)\n",
        "    open('test.nc', 'wb').write(r.content)\n",
        "    nc = NetCDFFile('test.nc')\n",
        "    nc\n",
        "    lat = nc.variables['latitude'][:]\n",
        "    lon = nc.variables['longitude'][:]\n",
        "    time = nc.variables['time'][:]\n",
        "    mapvar = nc.variables[myvar][:]\n",
        "    fig = plt.figure(i, figsize = (10, 10))\n",
        "    ax = plt.axes(projection = ccrs.PlateCarree())\n",
        "    ax.coastlines(resolution='10m', color = 'red')\n",
        "    ax.set_extent([287.25, 290.25, 40.5, 42.25])\n",
        "    myplot = plt.pcolormesh(lon, lat, mapvar[0,:,:], cmap = 'rainbow', vmin = 0, vmax = 20)\n",
        "    means.append((np.mean(mapvar)))\n",
        "    timearray.append(dt.fromtimestamp(time))\n",
        "    plt.title(title+i)\n",
        "    cbar = plt.colorbar()\n",
        "    cbar.set_label(unit, rotation=270) \n",
        "    plt.show()\n",
        "    #plt.savefig(f\"{images_dir}/Photosynthetically Available Radiation (1 day Composite) \"+i+\".png\")\n",
        "  plt.plot(timearray, means)\n",
        "  plt.xlabel('Year')\n",
        "  plt.ylabel(myvar+'('+unit+')')\n",
        "  plt.title('Avg. '+title+' ('+tt+')')\n",
        "  #plt.savefig(f\"{images_dir}/\"+tt+myvar+\" VIIRS.png\")\n",
        "  plt.show()"
      ],
      "execution_count": null,
      "outputs": []
    },
    {
      "cell_type": "markdown",
      "metadata": {
        "id": "ucZom4zSDlSS",
        "colab_type": "text"
      },
      "source": [
        "Seeing whether this shows up on github\n"
      ]
    },
    {
      "cell_type": "markdown",
      "metadata": {
        "id": "VGoBXhje93tP",
        "colab_type": "text"
      },
      "source": [
        "**Making a climatology from monthly composite**"
      ]
    },
    {
      "cell_type": "code",
      "metadata": {
        "id": "Tc3nYAkI9wg4",
        "colab_type": "code",
        "colab": {
          "base_uri": "https://localhost:8080/",
          "height": 961
        },
        "outputId": "824d998b-cc21-4eb0-b0e0-03ddbb0d7df3"
      },
      "source": [
        "#the following sets up an array of arrays, with each entry in metarray beimng the set of dates for a given month in the dataset\n",
        "images_dir = '/content/gdrive/Shared drives/BFK_BOG/SURF_UG/Benny/Images/Phytoplankton_averages/Monthly Climatologies'\n",
        "metadates = []\n",
        "metameans = []\n",
        "months = []\n",
        "for y in range(1,13):\n",
        "  months.append(y)\n",
        "for k in range(1, 13):\n",
        "  monthdates = []\n",
        "  for i in dates2:\n",
        "    datee = dt.strptime(i, \"%Y-%m-%d\")\n",
        "    if datee.month == k:\n",
        "      monthdates.append(i)\n",
        "  metadates.append(monthdates)\n",
        "#Next, I need to set up 2 nested for loops. Inner loop iterates though the current entry of metarray, calculates the mean, and adds it to that entry of an array within an array. The outer one iterates through metarray. Then I need a for loop that iterates through the means_metarray, calculates the means for each one, and then I'll graph those means.\n",
        "print(metadates)\n",
        "for j in metadates:\n",
        "  means = []\n",
        "  for x in metadates[metadates.index(j)]:\n",
        "    url = 'https://pricaimcit.services.brown.edu/erddap/griddap/'+dataset_id+'.nc?'+myvar+'[('+x+'T00:00:00Z):1:('+x+'T00:00:00Z)][(42.25):1:(40.50)][(-72.75):1:(-69.75)]'\n",
        "    r = requests.get(url, allow_redirects=True)\n",
        "    open('test.nc', 'wb').write(r.content)\n",
        "    nc = NetCDFFile('test.nc')\n",
        "    nc\n",
        "    mapvar = nc.variables[myvar][:]\n",
        "    means.append(np.nanmean(mapvar))\n",
        "  print(j)\n",
        "  print(means)\n",
        "  metameans.append(means)\n",
        "print(metameans)\n",
        "finalmeans = []\n",
        "for z in metameans:\n",
        "  finalmeans.append(np.nanmean(metameans[metameans.index(z)]))\n",
        "  print(finalmeans)\n",
        "plt.plot(months, finalmeans, color = 'magenta')\n",
        "plt.title('Monthly Climatology of '+title)\n",
        "plt.xlabel('Calendar Month')\n",
        "plt.ylabel(myvar+'('+unit+')')\n",
        "#plt.savefig(f\"{images_dir}/\"+tt+\"Climatology\"+myvar+\" VIIRS.png\")\n",
        "plt.show()"
      ],
      "execution_count": null,
      "outputs": [
        {
          "output_type": "stream",
          "text": [
            "[['2012-01-15', '2013-01-15', '2014-01-15', '2015-01-15', '2016-01-15', '2017-01-15', '2018-01-15', '2019-01-15', '2020-01-15'], ['2012-02-15', '2013-02-15', '2014-02-15', '2015-02-15', '2016-02-15', '2017-02-15', '2018-02-15', '2019-02-15', '2020-02-15'], ['2012-03-15', '2013-03-15', '2014-03-15', '2015-03-15', '2016-03-15', '2017-03-15', '2018-03-15', '2019-03-15', '2020-03-15'], ['2012-04-15', '2013-04-15', '2014-04-15', '2015-04-15', '2016-04-15', '2017-04-15', '2018-04-15', '2019-04-15', '2020-04-15'], ['2012-05-15', '2013-05-15', '2014-05-15', '2015-05-15', '2016-05-15', '2017-05-15', '2018-05-15', '2019-05-15'], ['2012-06-15', '2013-06-15', '2014-06-15', '2015-06-15', '2016-06-15', '2017-06-15', '2018-06-15', '2019-06-15'], ['2012-07-15', '2013-07-15', '2014-07-15', '2015-07-15', '2016-07-15', '2017-07-15', '2018-07-15', '2019-07-15'], ['2012-08-15', '2013-08-15', '2014-08-15', '2015-08-15', '2016-08-15', '2017-08-15', '2018-08-15', '2019-08-15'], ['2012-09-15', '2013-09-15', '2014-09-15', '2015-09-15', '2016-09-15', '2017-09-15', '2018-09-15', '2019-09-15'], ['2012-10-15', '2013-10-15', '2014-10-15', '2015-10-15', '2016-10-15', '2017-10-15', '2018-10-15', '2019-10-15'], ['2012-11-15', '2013-11-15', '2014-11-15', '2015-11-15', '2016-11-15', '2017-11-15', '2018-11-15', '2019-11-15'], ['2012-12-15', '2013-12-15', '2014-12-15', '2015-12-15', '2016-12-15', '2017-12-15', '2018-12-15', '2019-12-15']]\n",
            "['2012-01-15', '2013-01-15', '2014-01-15', '2015-01-15', '2016-01-15', '2017-01-15', '2018-01-15', '2019-01-15', '2020-01-15']\n",
            "[0.001098237, 0.0013310882, 0.0013860764, 0.0012540222, 0.001345638, 0.0010734126, 0.001188136, 0.0010041684, 0.000877895]\n",
            "['2012-02-15', '2013-02-15', '2014-02-15', '2015-02-15', '2016-02-15', '2017-02-15', '2018-02-15', '2019-02-15', '2020-02-15']\n",
            "[0.00078640593, 0.0018147363, 0.0011391632, 0.0017054371, 0.0012118546, 0.00085057947, 0.00068082294, 0.00073807436, 0.000741334]\n",
            "['2012-03-15', '2013-03-15', '2014-03-15', '2015-03-15', '2016-03-15', '2017-03-15', '2018-03-15', '2019-03-15', '2020-03-15']\n",
            "[0.0006414374, 0.0008513104, 0.0007353878, 0.0006239171, 0.0006871324, 0.0010648171, 0.0011581185, 0.00043322612, 0.00079057144]\n",
            "['2012-04-15', '2013-04-15', '2014-04-15', '2015-04-15', '2016-04-15', '2017-04-15', '2018-04-15', '2019-04-15', '2020-04-15']\n",
            "[0.0006456379, 0.0006218728, 0.00080126885, 0.00044944978, 0.00076070527, 0.00070077355, 0.0006858951, 0.00045988706, 0.0008123146]\n",
            "['2012-05-15', '2013-05-15', '2014-05-15', '2015-05-15', '2016-05-15', '2017-05-15', '2018-05-15', '2019-05-15']\n",
            "[0.0004926338, 0.00061912584, 0.00048659227, 0.000326648, 0.0005894069, 0.0005909547, 0.00035914066, 0.00036870956]\n",
            "['2012-06-15', '2013-06-15', '2014-06-15', '2015-06-15', '2016-06-15', '2017-06-15', '2018-06-15', '2019-06-15']\n",
            "[0.0005191736, 0.0007236921, 0.00047685622, 0.00042078426, 0.0005032872, 0.0006487663, 0.00043689663, 0.00035807485]\n",
            "['2012-07-15', '2013-07-15', '2014-07-15', '2015-07-15', '2016-07-15', '2017-07-15', '2018-07-15', '2019-07-15']\n",
            "[0.0005902244, 0.0006039935, 0.00046651775, 0.0003782384, 0.0005506334, 0.00047156433, 0.00048391105, 0.00042977624]\n",
            "['2012-08-15', '2013-08-15', '2014-08-15', '2015-08-15', '2016-08-15', '2017-08-15', '2018-08-15', '2019-08-15']\n",
            "[0.0005570669, 0.0004944598, 0.0003819829, 0.00040153463, 0.00054621836, 0.00048505273, 0.0005015035, 0.00045347825]\n",
            "['2012-09-15', '2013-09-15', '2014-09-15', '2015-09-15', '2016-09-15', '2017-09-15', '2018-09-15', '2019-09-15']\n",
            "[0.0005420835, 0.0005193186, 0.00046327195, 0.00043281214, 0.0005515738, 0.00058115635, 0.0004878612, 0.00047215994]\n",
            "['2012-10-15', '2013-10-15', '2014-10-15', '2015-10-15', '2016-10-15', '2017-10-15', '2018-10-15', '2019-10-15']\n",
            "[0.0007173118, 0.0006744163, 0.0007533394, 0.00079823646, 0.0006827559, 0.00080363074, 0.0006946426, 0.0008686638]\n",
            "['2012-11-15', '2013-11-15', '2014-11-15', '2015-11-15', '2016-11-15', '2017-11-15', '2018-11-15', '2019-11-15']\n",
            "[0.0017783294, 0.0011946039, 0.001221437, 0.0009978886, 0.0009344138, 0.0010297463, 0.001221145, 0.001211111]\n",
            "['2012-12-15', '2013-12-15', '2014-12-15', '2015-12-15', '2016-12-15', '2017-12-15', '2018-12-15', '2019-12-15']\n",
            "[0.0014327876, 0.0013231683, 0.0009616056, 0.0009533632, 0.0010463836, 0.00093135063, 0.0011575725, 0.001167741]\n",
            "[[0.001098237, 0.0013310882, 0.0013860764, 0.0012540222, 0.001345638, 0.0010734126, 0.001188136, 0.0010041684, 0.000877895], [0.00078640593, 0.0018147363, 0.0011391632, 0.0017054371, 0.0012118546, 0.00085057947, 0.00068082294, 0.00073807436, 0.000741334], [0.0006414374, 0.0008513104, 0.0007353878, 0.0006239171, 0.0006871324, 0.0010648171, 0.0011581185, 0.00043322612, 0.00079057144], [0.0006456379, 0.0006218728, 0.00080126885, 0.00044944978, 0.00076070527, 0.00070077355, 0.0006858951, 0.00045988706, 0.0008123146], [0.0004926338, 0.00061912584, 0.00048659227, 0.000326648, 0.0005894069, 0.0005909547, 0.00035914066, 0.00036870956], [0.0005191736, 0.0007236921, 0.00047685622, 0.00042078426, 0.0005032872, 0.0006487663, 0.00043689663, 0.00035807485], [0.0005902244, 0.0006039935, 0.00046651775, 0.0003782384, 0.0005506334, 0.00047156433, 0.00048391105, 0.00042977624], [0.0005570669, 0.0004944598, 0.0003819829, 0.00040153463, 0.00054621836, 0.00048505273, 0.0005015035, 0.00045347825], [0.0005420835, 0.0005193186, 0.00046327195, 0.00043281214, 0.0005515738, 0.00058115635, 0.0004878612, 0.00047215994], [0.0007173118, 0.0006744163, 0.0007533394, 0.00079823646, 0.0006827559, 0.00080363074, 0.0006946426, 0.0008686638], [0.0017783294, 0.0011946039, 0.001221437, 0.0009978886, 0.0009344138, 0.0010297463, 0.001221145, 0.001211111], [0.0014327876, 0.0013231683, 0.0009616056, 0.0009533632, 0.0010463836, 0.00093135063, 0.0011575725, 0.001167741]]\n",
            "[0.0011731861]\n",
            "[0.0011731861, 0.0010742674]\n",
            "[0.0011731861, 0.0010742674, 0.0007762131]\n",
            "[0.0011731861, 0.0010742674, 0.0007762131, 0.0006597561]\n",
            "[0.0011731861, 0.0010742674, 0.0007762131, 0.0006597561, 0.00047915144]\n",
            "[0.0011731861, 0.0010742674, 0.0007762131, 0.0006597561, 0.00047915144, 0.0005109414]\n",
            "[0.0011731861, 0.0010742674, 0.0007762131, 0.0006597561, 0.00047915144, 0.0005109414, 0.0004968574]\n",
            "[0.0011731861, 0.0010742674, 0.0007762131, 0.0006597561, 0.00047915144, 0.0005109414, 0.0004968574, 0.00047766214]\n",
            "[0.0011731861, 0.0010742674, 0.0007762131, 0.0006597561, 0.00047915144, 0.0005109414, 0.0004968574, 0.00047766214, 0.0005062797]\n",
            "[0.0011731861, 0.0010742674, 0.0007762131, 0.0006597561, 0.00047915144, 0.0005109414, 0.0004968574, 0.00047766214, 0.0005062797, 0.0007491246]\n",
            "[0.0011731861, 0.0010742674, 0.0007762131, 0.0006597561, 0.00047915144, 0.0005109414, 0.0004968574, 0.00047766214, 0.0005062797, 0.0007491246, 0.0011985844]\n",
            "[0.0011731861, 0.0010742674, 0.0007762131, 0.0006597561, 0.00047915144, 0.0005109414, 0.0004968574, 0.00047766214, 0.0005062797, 0.0007491246, 0.0011985844, 0.0011217466]\n"
          ],
          "name": "stdout"
        },
        {
          "output_type": "display_data",
          "data": {
            "image/png": "[encoded data removed]",
            "text/plain": [
              "<Figure size 432x288 with 1 Axes>"
            ]
          },
          "metadata": {
            "tags": [],
            "needs_background": "light"
          }
        }
      ]
    },
    {
      "cell_type": "markdown",
      "metadata": {
        "id": "ziXAA3hplC_9",
        "colab_type": "text"
      },
      "source": [
        "**Graphing the anomaly**"
      ]
    },
    {
      "cell_type": "code",
      "metadata": {
        "id": "Fzv0lVk_lFxF",
        "colab_type": "code",
        "colab": {
          "base_uri": "https://localhost:8080/",
          "height": 1000
        },
        "outputId": "2b93dd0d-d950-477a-a1ae-14745e3a4f6b"
      },
      "source": [
        "anomalies = []\n",
        "means = []\n",
        "timearray = []\n",
        "images_dir = '/content/gdrive/Shared drives/BFK_BOG/SURF_UG/Benny/Images/Phytoplankton_averages/Anomalies/VIIRS Anomalies'\n",
        "def anomaly():\n",
        "  for i in dates2:\n",
        "    url = 'https://pricaimcit.services.brown.edu/erddap/griddap/'+dataset_id+'.nc?'+myvar+'[('+i+'T00:00:00Z):1:('+i+'T00:00:00Z)][(42.25):1:(40.50)][(-72.75):1:(-69.75)]'\n",
        "    r = requests.get(url, allow_redirects=True)\n",
        "    open('test.nc', 'wb').write(r.content)\n",
        "    nc = NetCDFFile('test.nc')\n",
        "    nc\n",
        "    lat = nc.variables['latitude'][:]\n",
        "    lon = nc.variables['longitude'][:]\n",
        "    time = nc.variables['time'][:]\n",
        "    mapvar = nc.variables[myvar][:]\n",
        "    index = datetime.datetime.strptime(i, '%Y-%m-%d').month\n",
        "    addition = np.nanmean(mapvar) - finalmeans[index-1]\n",
        "    print(addition)\n",
        "    anomalies.append(addition)\n",
        "    timearray.append(dt.fromtimestamp(time))\n",
        "    #in future notebooks, the following conditionals should be done outside of the function:\n",
        "    #plt.savefig(f\"{images_dir}/Photosynthetically Available Radiation (1 day Composite) \"+i+\".png\")\n",
        "  print(len(anomalies))\n",
        "  plt.plot(timearray, anomalies)\n",
        "  plt.xlabel('Year')\n",
        "  plt.ylabel(myvar+'('+unit+')')\n",
        "  plt.title(title+' Anomaly ('+tt+')')\n",
        "  #plt.savefig(f\"{images_dir}/\"+tt+myvar+\" Anomaly VIIRS.png\")\n",
        "  plt.show()\n",
        "anomaly()"
      ],
      "execution_count": null,
      "outputs": [
        {
          "output_type": "stream",
          "text": [
            "-7.4949116e-05\n",
            "-0.0002878615\n",
            "-0.0001347757\n",
            "-1.4118152e-05\n",
            "1.34823495e-05\n",
            "8.232251e-06\n",
            "9.336701e-05\n",
            "7.940474e-05\n",
            "3.5803823e-05\n",
            "-3.1812815e-05\n",
            "0.0005797449\n",
            "0.00031104102\n",
            "0.00015790213\n",
            "0.00074046885\n",
            "7.5097254e-05\n",
            "-3.7883292e-05\n",
            "0.0001399744\n",
            "0.00021275075\n",
            "0.00010713609\n",
            "1.6797683e-05\n",
            "1.30389235e-05\n",
            "-7.470831e-05\n",
            "-3.980589e-06\n",
            "0.00020142167\n",
            "0.00021289033\n",
            "6.489572e-05\n",
            "-4.082534e-05\n",
            "0.00014151278\n",
            "7.440831e-06\n",
            "-3.4085155e-05\n",
            "-3.0339637e-05\n",
            "-9.567922e-05\n",
            "-4.300775e-05\n",
            "4.2147585e-06\n",
            "2.285256e-05\n",
            "-0.00016014103\n",
            "8.083612e-05\n",
            "0.00063116965\n",
            "-0.00015229604\n",
            "-0.00021030629\n",
            "-0.00015250343\n",
            "-9.015712e-05\n",
            "-0.000118619006\n",
            "-7.61275e-05\n",
            "-7.3467556e-05\n",
            "4.911184e-05\n",
            "-0.00020069582\n",
            "-0.00016838341\n",
            "0.00017245184\n",
            "0.0001375872\n",
            "-8.908071e-05\n",
            "0.0001009492\n",
            "0.00011025544\n",
            "-7.654191e-06\n",
            "5.377602e-05\n",
            "6.8556226e-05\n",
            "4.5294117e-05\n",
            "-6.6368724e-05\n",
            "-0.00026417064\n",
            "-7.536297e-05\n",
            "-9.977352e-05\n",
            "-0.00022368797\n",
            "0.00028860394\n",
            "4.1017483e-05\n",
            "0.00011180324\n",
            "0.00013782491\n",
            "-2.5293062e-05\n",
            "7.3905976e-06\n",
            "7.487665e-05\n",
            "5.450612e-05\n",
            "-0.00016883819\n",
            "-0.00019039598\n",
            "1.4949939e-05\n",
            "-0.0003934445\n",
            "0.00038190535\n",
            "2.6139023e-05\n",
            "-0.00012001078\n",
            "-7.404474e-05\n",
            "-1.2946344e-05\n",
            "2.3841392e-05\n",
            "-1.8418505e-05\n",
            "-5.448202e-05\n",
            "2.256059e-05\n",
            "3.5825884e-05\n",
            "-0.0001690177\n",
            "-0.00033619307\n",
            "-0.000342987\n",
            "-0.00019986901\n",
            "-0.00011044188\n",
            "-0.00015286653\n",
            "-6.708116e-05\n",
            "-2.4183886e-05\n",
            "-3.411976e-05\n",
            "0.00011953915\n",
            "1.25265215e-05\n",
            "4.5994413e-05\n",
            "-0.00029529113\n",
            "-0.00033293344\n",
            "1.4358317e-05\n",
            "0.00015255855\n",
            "100\n"
          ],
          "name": "stdout"
        },
        {
          "output_type": "display_data",
          "data": {
            "image/png": "[encoded data removed]",
            "text/plain": [
              "<Figure size 432x288 with 1 Axes>"
            ]
          },
          "metadata": {
            "tags": [],
            "needs_background": "light"
          }
        }
      ]
    }
  ]
}